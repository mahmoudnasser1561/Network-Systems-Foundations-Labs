{
 "cells": [
  {
   "cell_type": "markdown",
   "metadata": {
    "deletable": false,
    "editable": false,
    "nbgrader": {
     "cell_type": "markdown",
     "checksum": "f4480577939e461d3d39dddb14aaa0b4",
     "grade": false,
     "grade_id": "cell-927521777b394ade",
     "locked": true,
     "schema_version": 3,
     "solution": false,
     "task": false
    }
   },
   "source": [
    "# In this lab, we will learn to use the python packet manipulation library Scapy to modify Ethernet frames.\n",
    "\n",
    "Scapy (https://scapy.net/) is a python library that enables manipulating packets.  Recall that network communication is more than just the ability to send 1s and 0s. We need structure so that both sides of the communication can understand each other.  In Ethernet, this structure was: \n",
    "\n",
    "\\[ dst \\]\\[ src \\]\\[ type \\]\\[ payload \\]\\[ FCS \\]\n",
    "\n",
    "This naturally can translate to a data structure in a programming language like Python.  With Scapy, you can read packets from a file, read live traffic from the network interface, or generate packets from scratch.  \n",
    "\n",
    "For a full tutorial, you can visit the scapy website.  Here, we'll go through just enough to complete this lab.\n",
    "\n",
    "Useful cheat sheet for scapy:\n",
    "https://wiki.sans.blue/Tools/pdfs/ScapyCheatSheet_v0.2.pdf\n"
   ]
  },
  {
   "cell_type": "markdown",
   "metadata": {
    "deletable": false,
    "editable": false,
    "nbgrader": {
     "cell_type": "markdown",
     "checksum": "8fb454f79e799c7848371911dfb7d9a9",
     "grade": false,
     "grade_id": "cell-1fffec1c61731b3c",
     "locked": true,
     "schema_version": 3,
     "solution": false,
     "task": false
    }
   },
   "source": [
    "This lab, as typical for Jupyter notebooks, contains multiple cells which you can execute one at a time and then see the result of each cell's execution.  The execution state is shared across cells so the results of one cell can be seen by a subsequent cell.\n",
    "\n",
    "Execute each cell below, in sequence, to see how you can interact with Scapy.  Then provide your own implementation for the cell containing '# your code here' to complete this lab.  You will be graded on the result of that implementation."
   ]
  },
  {
   "cell_type": "code",
   "execution_count": null,
   "metadata": {},
   "outputs": [],
   "source": [
    "#We need to import the scapy library, in this case everything (*)\n",
    "from scapy.all import *\n",
    "\n",
    "#Read in a trace of packets from a file\n",
    "pkts = rdpcap(\"intro-wireshark-trace1.pcap\")"
   ]
  },
  {
   "cell_type": "markdown",
   "metadata": {},
   "source": [
    "The pkts variable is now an array of the Packet data structure which was populated in the operation above from reading the pcap file. "
   ]
  },
  {
   "cell_type": "code",
   "execution_count": null,
   "metadata": {},
   "outputs": [],
   "source": [
    "pkt = pkts[1]\n",
    "\n",
    "# Do checks on what types are in the packet\n",
    "eth = Ether in pkt\n",
    "print(eth)\n",
    "\n",
    "# You can get the name of the layers in the packet (requesting a specific one)\n",
    "layer = pkt.getlayer(0)\n",
    "print(layer)\n",
    "\n",
    "# or, there's a variable within the pkt structure indicating the name of the type\n",
    "exp = pkt.name\n",
    "print (exp)\n",
    "\n",
    "# You can list all the available protocols - won't, since it's large\n",
    "#ls()\n",
    "\n",
    "# Or list the fields in a particular layer\n",
    "ls(Ether)"
   ]
  },
  {
   "cell_type": "code",
   "execution_count": null,
   "metadata": {},
   "outputs": [],
   "source": [
    "# Dump the packet contents in hex\n",
    "hexdump(pkt)"
   ]
  },
  {
   "cell_type": "code",
   "execution_count": null,
   "metadata": {},
   "outputs": [],
   "source": [
    "# Dump the packet in a nice format\n",
    "pkt.show()"
   ]
  },
  {
   "cell_type": "code",
   "execution_count": null,
   "metadata": {},
   "outputs": [],
   "source": [
    "# You can manipulate the packet through fields\n",
    "\n",
    "pkt.dst = \"11:22:33:44:55:66\"\n",
    "\n",
    "pkt.show()"
   ]
  },
  {
   "cell_type": "markdown",
   "metadata": {
    "deletable": false,
    "editable": false,
    "nbgrader": {
     "cell_type": "markdown",
     "checksum": "2016dbc4f4a53a8f86829e690b4de441",
     "grade": false,
     "grade_id": "cell-aed1746c6aad58f5",
     "locked": true,
     "schema_version": 3,
     "solution": false,
     "task": false
    }
   },
   "source": [
    "Your task for the graded portion of this lab is to iterate (loop) over all the packets loaded into the pkts array from the first cell and for each packet, ONLY if it includes Ether, change its source address to 11:11:11:11:11:11 and its destination address to 22:22:22:22:22:22. Do not add to or remove packets from the array."
   ]
  },
  {
   "cell_type": "code",
   "execution_count": null,
   "metadata": {
    "deletable": false,
    "nbgrader": {
     "cell_type": "code",
     "checksum": "ddd22e55f99676054b314c573d3e6924",
     "grade": false,
     "grade_id": "cell-5fb9ce07c927d648",
     "locked": false,
     "schema_version": 3,
     "solution": true,
     "task": false
    }
   },
   "outputs": [],
   "source": [
    "# your code here\n",
    "for pkt in pkts:\n",
    "    if Ether in pkt:\n",
    "        assert pkt[Ether].src == \"11:11:11:11:11:11\", f\"Source MAC not updated: {pkt[Ether].src}\"\n",
    "        assert pkt[Ether].dst == \"22:22:22:22:22:22\", f\"Destination MAC not updated: {pkt[Ether].dst}\"\n",
    "\n"
   ]
  },
  {
   "cell_type": "code",
   "execution_count": null,
   "metadata": {
    "deletable": false,
    "editable": false,
    "nbgrader": {
     "cell_type": "code",
     "checksum": "26d594331a2c5de42b18f7d2c12007a3",
     "grade": true,
     "grade_id": "cell-d34bace8d047e3bc",
     "locked": true,
     "points": 3,
     "schema_version": 3,
     "solution": false,
     "task": false
    }
   },
   "outputs": [],
   "source": [
    "\"\"\"This cell contains hidden tests that will be executed by the autograder.\n",
    "You do not need to modify or execute this cell yourself.\n",
    "Submit the assignment to generate your grade.\n",
    "If you didn't get 100%, review the task description for the cell above and check that your implementation is correct.\n",
    "\"\"\"\n",
    "\n"
   ]
  }
 ],
 "metadata": {
  "kernelspec": {
   "display_name": "Python 3",
   "language": "python",
   "name": "python3"
  },
  "language_info": {
   "codemirror_mode": {
    "name": "ipython",
    "version": 3
   },
   "file_extension": ".py",
   "mimetype": "text/x-python",
   "name": "python",
   "nbconvert_exporter": "python",
   "pygments_lexer": "ipython3",
   "version": "3.7.6"
  }
 },
 "nbformat": 4,
 "nbformat_minor": 4
}
